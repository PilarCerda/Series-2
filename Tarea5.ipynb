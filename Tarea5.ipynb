{
 "cells": [
  {
   "cell_type": "markdown",
   "metadata": {},
   "source": [
    "# Pregunta 5"
   ]
  },
  {
   "cell_type": "markdown",
   "metadata": {},
   "source": [
    "Se lee el archivo AFP, que contiene los datos de las distinas AFP"
   ]
  },
  {
   "cell_type": "code",
   "execution_count": 2,
   "metadata": {
    "collapsed": true,
    "jupyter": {
     "outputs_hidden": true
    }
   },
   "outputs": [
    {
     "name": "stdout",
     "output_type": "stream",
     "text": [
      "\n",
      "  There is a binary version available but the source version is later:\n",
      "      binary source needs_compilation\n",
      "astsa   1.11   1.12             FALSE\n",
      "\n"
     ]
    },
    {
     "name": "stderr",
     "output_type": "stream",
     "text": [
      "installing the source package 'astsa'\n",
      "\n",
      "also installing the dependency 'fastICA'\n",
      "\n"
     ]
    },
    {
     "name": "stdout",
     "output_type": "stream",
     "text": [
      "package 'fastICA' successfully unpacked and MD5 sums checked\n",
      "package 'fGarch' successfully unpacked and MD5 sums checked\n",
      "\n",
      "The downloaded binary packages are in\n",
      "\tC:\\Users\\pily1\\AppData\\Local\\Temp\\RtmpYTv555\\downloaded_packages\n"
     ]
    }
   ],
   "source": [
    "install.packages(\"astsa\")\n",
    "install.packages(\"fGarch\")"
   ]
  },
  {
   "cell_type": "code",
   "execution_count": 6,
   "metadata": {},
   "outputs": [
    {
     "name": "stderr",
     "output_type": "stream",
     "text": [
      "Loading required package: xts\n",
      "Loading required package: zoo\n",
      "\n",
      "Attaching package: 'zoo'\n",
      "\n",
      "The following objects are masked from 'package:base':\n",
      "\n",
      "    as.Date, as.Date.numeric\n",
      "\n",
      "Registered S3 method overwritten by 'xts':\n",
      "  method     from\n",
      "  as.zoo.xts zoo \n",
      "Loading required package: TTR\n",
      "Registered S3 method overwritten by 'quantmod':\n",
      "  method            from\n",
      "  as.zoo.data.frame zoo \n",
      "Version 0.4-0 included new data defaults. See ?getSymbols.\n",
      "Warning message:\n",
      "\"package 'fGarch' was built under R version 3.6.3\"Loading required package: timeDate\n",
      "Loading required package: timeSeries\n",
      "Warning message:\n",
      "\"package 'timeSeries' was built under R version 3.6.3\"\n",
      "Attaching package: 'timeSeries'\n",
      "\n",
      "The following object is masked from 'package:zoo':\n",
      "\n",
      "    time<-\n",
      "\n",
      "Loading required package: fBasics\n",
      "Warning message:\n",
      "\"package 'fBasics' was built under R version 3.6.3\"\n",
      "Attaching package: 'fBasics'\n",
      "\n",
      "The following object is masked from 'package:TTR':\n",
      "\n",
      "    volatility\n",
      "\n",
      "The following object is masked from 'package:astsa':\n",
      "\n",
      "    nyse\n",
      "\n"
     ]
    }
   ],
   "source": [
    "\n",
    "library(astsa)\n",
    "library(quantmod)\n",
    "library('fGarch')"
   ]
  },
  {
   "cell_type": "markdown",
   "metadata": {},
   "source": [
    "#### Graficando la serie"
   ]
  },
  {
   "cell_type": "code",
   "execution_count": 12,
   "metadata": {},
   "outputs": [],
   "source": [
    "datax=sales"
   ]
  },
  {
   "cell_type": "code",
   "execution_count": 13,
   "metadata": {},
   "outputs": [
    {
     "data": {
      "image/png": "[encoded data removed]",
      "text/plain": [
       "Plot with title \"Serie de sales\""
      ]
     },
     "metadata": {},
     "output_type": "display_data"
    }
   ],
   "source": [
    "plot(datax, main=\"Serie de sales\",cex.main=1,ylab=\"Ventas\")\n",
    "\n"
   ]
  },
  {
   "cell_type": "code",
   "execution_count": 11,
   "metadata": {},
   "outputs": [
    {
     "data": {
      "image/png": "[encoded data removed]",
      "text/plain": [
       "Plot with title \"Serie sales\""
      ]
     },
     "metadata": {},
     "output_type": "display_data"
    },
    {
     "data": {
      "image/png": "[encoded data removed]",
      "text/plain": [
       "Plot with title \"Serie sales\""
      ]
     },
     "metadata": {},
     "output_type": "display_data"
    }
   ],
   "source": [
    "acf(datax, main=\"Serie sales\")\n",
    "pacf(datax, main=\"Serie sales\")\n"
   ]
  },
  {
   "cell_type": "markdown",
   "metadata": {},
   "source": [
    "### Proponiendo un modelo GARCH"
   ]
  },
  {
   "cell_type": "code",
   "execution_count": 24,
   "metadata": {},
   "outputs": [
    {
     "name": "stdout",
     "output_type": "stream",
     "text": [
      "\n",
      "Title:\n",
      " GARCH Modelling \n",
      "\n",
      "Call:\n",
      " garchFit(formula = ~garch(1, 1), data = datax, trace = FALSE) \n",
      "\n",
      "Mean and Variance Equation:\n",
      " data ~ garch(1, 1)\n",
      "<environment: 0x0000000007f45ac0>\n",
      " [data = datax]\n",
      "\n",
      "Conditional Distribution:\n",
      " norm \n",
      "\n",
      "Coefficient(s):\n",
      "        mu       omega      alpha1       beta1  \n",
      "2.1592e+02  1.7200e+00  1.0000e+00  1.0000e-08  \n",
      "\n",
      "Std. Errors:\n",
      " based on Hessian \n",
      "\n",
      "Error Analysis:\n",
      "        Estimate  Std. Error  t value Pr(>|t|)    \n",
      "mu     2.159e+02   5.543e-01  389.555  < 2e-16 ***\n",
      "omega  1.720e+00   9.854e-01    1.745   0.0809 .  \n",
      "alpha1 1.000e+00   2.431e-01    4.113 3.91e-05 ***\n",
      "beta1  1.000e-08   2.011e-01    0.000   1.0000    \n",
      "---\n",
      "Signif. codes:  0 '***' 0.001 '**' 0.01 '*' 0.05 '.' 0.1 ' ' 1\n",
      "\n",
      "Log Likelihood:\n",
      " -576.2935    normalized:  -3.841957 \n",
      "\n",
      "Description:\n",
      " Thu Dec 17 05:15:39 2020 by user: pily1 \n",
      "\n",
      "\n",
      "Standardised Residuals Tests:\n",
      "                                Statistic p-Value     \n",
      " Jarque-Bera Test   R    Chi^2  17.06305  0.0001971536\n",
      " Shapiro-Wilk Test  R    W      0.8307975 7.102348e-12\n",
      " Ljung-Box Test     R    Q(10)  697.0831  0           \n",
      " Ljung-Box Test     R    Q(15)  761.8167  0           \n",
      " Ljung-Box Test     R    Q(20)  774.1342  0           \n",
      " Ljung-Box Test     R^2  Q(10)  33.03104  0.000269133 \n",
      " Ljung-Box Test     R^2  Q(15)  34.39186  0.002999099 \n",
      " Ljung-Box Test     R^2  Q(20)  45.02903  0.00109351  \n",
      " LM Arch Test       R    TR^2   24.3335   0.0183169   \n",
      "\n",
      "Information Criterion Statistics:\n",
      "     AIC      BIC      SIC     HQIC \n",
      "7.737247 7.817531 7.735873 7.769864 \n",
      "\n",
      "\n",
      "Title:\n",
      " GARCH Modelling \n",
      "\n",
      "Call:\n",
      " garchFit(formula = ~garch(1, 0), data = datax, trace = FALSE) \n",
      "\n",
      "Mean and Variance Equation:\n",
      " data ~ garch(1, 0)\n",
      "<environment: 0x0000000008b0fb18>\n",
      " [data = datax]\n",
      "\n",
      "Conditional Distribution:\n",
      " norm \n",
      "\n",
      "Coefficient(s):\n",
      "      mu     omega    alpha1  \n",
      "212.9404    1.2565    1.0000  \n",
      "\n",
      "Std. Errors:\n",
      " based on Hessian \n",
      "\n",
      "Error Analysis:\n",
      "        Estimate  Std. Error  t value Pr(>|t|)    \n",
      "mu      212.9404      0.3183  668.963  < 2e-16 ***\n",
      "omega     1.2565      0.3981    3.156   0.0016 ** \n",
      "alpha1    1.0000      0.1237    8.083 6.66e-16 ***\n",
      "---\n",
      "Signif. codes:  0 '***' 0.001 '**' 0.01 '*' 0.05 '.' 0.1 ' ' 1\n",
      "\n",
      "Log Likelihood:\n",
      " -574.0538    normalized:  -3.827026 \n",
      "\n",
      "Description:\n",
      " Thu Dec 17 05:15:39 2020 by user: pily1 \n",
      "\n",
      "\n",
      "Standardised Residuals Tests:\n",
      "                                Statistic p-Value     \n",
      " Jarque-Bera Test   R    Chi^2  22.73289  1.157751e-05\n",
      " Shapiro-Wilk Test  R    W      0.7982726 4.20207e-13 \n",
      " Ljung-Box Test     R    Q(10)  619.1517  0           \n",
      " Ljung-Box Test     R    Q(15)  646.559   0           \n",
      " Ljung-Box Test     R    Q(20)  652.3136  0           \n",
      " Ljung-Box Test     R^2  Q(10)  22.21442  0.01404877  \n",
      " Ljung-Box Test     R^2  Q(15)  23.64681  0.07133912  \n",
      " Ljung-Box Test     R^2  Q(20)  23.96532  0.2439102   \n",
      " LM Arch Test       R    TR^2   18.04613  0.114297    \n",
      "\n",
      "Information Criterion Statistics:\n",
      "     AIC      BIC      SIC     HQIC \n",
      "7.694051 7.754264 7.693272 7.718514 \n",
      "\n",
      "\n",
      "Title:\n",
      " GARCH Modelling \n",
      "\n",
      "Call:\n",
      " garchFit(formula = ~garch(3, 0), data = datax, trace = FALSE) \n",
      "\n",
      "Mean and Variance Equation:\n",
      " data ~ garch(3, 0)\n",
      "<environment: 0x0000000005c28380>\n",
      " [data = datax]\n",
      "\n",
      "Conditional Distribution:\n",
      " norm \n",
      "\n",
      "Coefficient(s):\n",
      "        mu       omega      alpha1      alpha2      alpha3  \n",
      "2.1296e+02  1.2647e+00  1.0000e+00  1.0000e-08  1.0000e-08  \n",
      "\n",
      "Std. Errors:\n",
      " based on Hessian \n",
      "\n",
      "Error Analysis:\n",
      "        Estimate  Std. Error  t value Pr(>|t|)    \n",
      "mu     2.130e+02   4.148e-01  513.375  < 2e-16 ***\n",
      "omega  1.265e+00   4.537e-01    2.787  0.00531 ** \n",
      "alpha1 1.000e+00   4.316e-01    2.317  0.02052 *  \n",
      "alpha2 1.000e-08   4.814e-01    0.000  1.00000    \n",
      "alpha3 1.000e-08   1.116e-01    0.000  1.00000    \n",
      "---\n",
      "Signif. codes:  0 '***' 0.001 '**' 0.01 '*' 0.05 '.' 0.1 ' ' 1\n",
      "\n",
      "Log Likelihood:\n",
      " -574.7095    normalized:  -3.831397 \n",
      "\n",
      "Description:\n",
      " Thu Dec 17 05:15:39 2020 by user: pily1 \n",
      "\n",
      "\n",
      "Standardised Residuals Tests:\n",
      "                                Statistic p-Value     \n",
      " Jarque-Bera Test   R    Chi^2  22.58704  1.245337e-05\n",
      " Shapiro-Wilk Test  R    W      0.8031439 6.284008e-13\n",
      " Ljung-Box Test     R    Q(10)  619.7447  0           \n",
      " Ljung-Box Test     R    Q(15)  645.3828  0           \n",
      " Ljung-Box Test     R    Q(20)  652.2256  0           \n",
      " Ljung-Box Test     R^2  Q(10)  22.93948  0.01097218  \n",
      " Ljung-Box Test     R^2  Q(15)  24.18449  0.06202598  \n",
      " Ljung-Box Test     R^2  Q(20)  24.49966  0.2212471   \n",
      " LM Arch Test       R    TR^2   17.77718  0.1226255   \n",
      "\n",
      "Information Criterion Statistics:\n",
      "     AIC      BIC      SIC     HQIC \n",
      "7.729460 7.829815 7.727332 7.770231 \n",
      "\n"
     ]
    }
   ],
   "source": [
    "model1=garchFit(~ garch(1,1), data = datax, trace = FALSE)\n",
    "summary(model1)\n",
    "\n",
    "model2=garchFit(~ garch(1,0), data = datax, trace = FALSE)\n",
    "summary(model2)\n",
    "\n",
    "model3=garchFit(~ garch(3,0), data = datax, trace = FALSE)\n",
    "summary(model3)"
   ]
  },
  {
   "cell_type": "markdown",
   "metadata": {},
   "source": [
    "##### Eligieno el modelo 1 con un valor de AIC de 7.73 "
   ]
  },
  {
   "cell_type": "markdown",
   "metadata": {},
   "source": [
    "### Efecto ARCH"
   ]
  },
  {
   "cell_type": "markdown",
   "metadata": {},
   "source": [
    "##### Analisando el modelo 1, el valor de p del test LM, obtenemos que p=0.0183169 <0.05, por lo tanto rechazamos la hipotesis. Es decir hay evidencia de efecto ARCH"
   ]
  },
  {
   "cell_type": "markdown",
   "metadata": {},
   "source": [
    "### Comprobar computacionalmente que el proceso al cuadrado sigue un modelo autoregresivo"
   ]
  },
  {
   "cell_type": "code",
   "execution_count": 20,
   "metadata": {},
   "outputs": [
    {
     "data": {
      "image/png": "[encoded data removed]",
      "text/plain": [
       "Plot with title \"Serie de sales^2\""
      ]
     },
     "metadata": {},
     "output_type": "display_data"
    },
    {
     "data": {
      "image/png": "[encoded data removed]",
      "text/plain": [
       "Plot with title \"Serie sales^2\""
      ]
     },
     "metadata": {},
     "output_type": "display_data"
    },
    {
     "data": {
      "image/png": "[encoded data removed]",
      "text/plain": [
       "Plot with title \"Serie sales^2\""
      ]
     },
     "metadata": {},
     "output_type": "display_data"
    }
   ],
   "source": [
    "sales2=datax^2\n",
    "plot(sales2, main=\"Serie de sales^2\",cex.main=1)\n",
    "acf(sales2, main=\"Serie sales^2\")\n",
    "pacf(sales2, main=\"Serie sales^2\")\n",
    "\n"
   ]
  },
  {
   "cell_type": "markdown",
   "metadata": {},
   "source": [
    "####  Proponiendo un AR(1)"
   ]
  },
  {
   "cell_type": "code",
   "execution_count": 23,
   "metadata": {},
   "outputs": [
    {
     "data": {
      "text/plain": [
       "\n",
       "Call:\n",
       "arima(x = sales2, order = c(1, 0, 0))\n",
       "\n",
       "Coefficients:\n",
       "         ar1  intercept\n",
       "      0.9988   53884.96\n",
       "s.e.  0.0017   13197.41\n",
       "\n",
       "sigma^2 estimated as 466359:  log likelihood = -1194.8,  aic = 2395.6"
      ]
     },
     "metadata": {},
     "output_type": "display_data"
    }
   ],
   "source": [
    "Arima_1<-arima(sales2,c(1,0,0))\n",
    "Arima_1"
   ]
  }
 ],
 "metadata": {
  "kernelspec": {
   "display_name": "R",
   "language": "R",
   "name": "ir"
  },
  "language_info": {
   "codemirror_mode": "r",
   "file_extension": ".r",
   "mimetype": "text/x-r-source",
   "name": "R",
   "pygments_lexer": "r",
   "version": "3.6.1"
  }
 },
 "nbformat": 4,
 "nbformat_minor": 4
}
